{
 "cells": [
  {
   "cell_type": "markdown",
   "metadata": {},
   "source": [
    "##\n",
    " Repaso Python "
   ]
  },
  {
   "cell_type": "markdown",
   "metadata": {},
   "source": [
    "# Nan & null treatment"
   ]
  },
  {
   "cell_type": "markdown",
   "metadata": {},
   "source": [
    "En pandas, los valores faltantes suelen representarse como: \n",
    "-   NaN (para datos numéricos) \n",
    "-   None (para datos de tipo objeto).  <br>\n",
    "\n",
    "Puedes usar las funciones isna() o isnull() para identificarlos"
   ]
  },
  {
   "cell_type": "code",
   "execution_count": 19,
   "metadata": {},
   "outputs": [
    {
     "name": "stdout",
     "output_type": "stream",
     "text": [
      "     A    B    C\n",
      "0  1.0  NaN  1.0\n",
      "1  2.0  2.0  2.0\n",
      "2  NaN  3.0  3.0\n",
      "3  4.0  4.0  NaN\n",
      "----\n",
      "       A      B      C\n",
      "0  False   True  False\n",
      "1  False  False  False\n",
      "2   True  False  False\n",
      "3  False  False   True\n",
      "----\n",
      "       A      B      C\n",
      "0  False   True  False\n",
      "1  False  False  False\n",
      "2   True  False  False\n",
      "3  False  False   True\n"
     ]
    }
   ],
   "source": [
    "import pandas as pd\n",
    "import numpy as np\n",
    "\n",
    "#DataFrame con valores faltantes\n",
    "df = pd.DataFrame({\n",
    "    'A': [1, 2, np.nan, 4],\n",
    "    'B': [np.nan, 2, 3, 4],\n",
    "    'C': [1, 2, 3, None]\n",
    "})\n",
    "\n",
    "# Identificar valores faltantes\n",
    "print(df)\n",
    "print(\"----\")\n",
    "print(df.isna())\n",
    "print(\"----\")\n",
    "print(df.isnull())"
   ]
  },
  {
   "cell_type": "markdown",
   "metadata": {},
   "source": [
    "## Relleno de Valores Faltantes con Fillna()\n"
   ]
  },
  {
   "cell_type": "markdown",
   "metadata": {},
   "source": [
    "fillna() es una función clave para rellenar valores faltantes te permite rellenar con un valor específico con todo tipo de datos\n",
    "-   media -> Saca el promedio de la columna\n",
    "-   mediana, -> saca el promedio de la columna\n",
    "-   usar métodos de interpolación. -> estimar valores desconocidos entre un conjunto de datos conocidos. Exsite \n",
    "-               Lineal, spline y Temporar(para tiempo)       \n"
   ]
  },
  {
   "cell_type": "code",
   "execution_count": 21,
   "metadata": {},
   "outputs": [
    {
     "name": "stdout",
     "output_type": "stream",
     "text": [
      "Data Frame original\n",
      "     A    B    C\n",
      "0  1.0  NaN  1.0\n",
      "1  2.0  2.0  2.0\n",
      "2  NaN  3.0  3.0\n",
      "3  4.0  4.0  NaN\n",
      "Relleno con ceros\n",
      "     A    B    C\n",
      "0  1.0  0.0  1.0\n",
      "1  2.0  2.0  2.0\n",
      "2  0.0  3.0  3.0\n",
      "3  4.0  4.0  0.0\n",
      "Relleno con el promedio\n",
      "          A    B    C\n",
      "0  1.000000  3.0  1.0\n",
      "1  2.000000  2.0  2.0\n",
      "2  2.333333  3.0  3.0\n",
      "3  4.000000  4.0  2.0\n"
     ]
    }
   ],
   "source": [
    "data_filled = df.fillna(0)\n",
    "\n",
    "# Rellenar con la media de cada columna\n",
    "data_filled_mean = df.fillna(df.mean())\n",
    "\n",
    "print(\"Data Frame original\")\n",
    "print(df)\n",
    "print(\"Relleno con ceros\")\n",
    "print(data_filled)\n",
    "print(\"Relleno con el promedio\")\n",
    "print(data_filled_mean)"
   ]
  },
  {
   "cell_type": "code",
   "execution_count": 26,
   "metadata": {},
   "outputs": [
    {
     "name": "stdout",
     "output_type": "stream",
     "text": [
      "Data Frame original\n",
      "     A    B    C\n",
      "0  1.0  NaN  1.0\n",
      "1  2.0  2.0  2.0\n",
      "2  NaN  3.0  3.0\n",
      "3  4.0  4.0  NaN\n",
      "Interpolacion lineal, Sin valores anteriores para calcular la interpolación, pandas no puede estimar el valor de B en el índice 0 y deja el NaN.\n",
      "     A    B    C\n",
      "0  1.0  NaN  1.0\n",
      "1  2.0  2.0  2.0\n",
      "2  3.0  3.0  3.0\n",
      "3  4.0  4.0  3.0\n",
      "Interpolacion polinomial\n",
      "     A    B    C\n",
      "0  1.0  NaN  1.0\n",
      "1  2.0  2.0  2.0\n",
      "2  3.0  3.0  3.0\n",
      "3  4.0  4.0  NaN\n"
     ]
    }
   ],
   "source": [
    "# Interpolación lineal para rellenar valores faltantes\n",
    "data_interpolated = df.interpolate()\n",
    "data_interpolated_polinomial = df.interpolate(method='polynomial', order=1)\n",
    "\n",
    "print(\"Data Frame original\")\n",
    "print(df)\n",
    "print(\"Interpolacion lineal, Sin valores anteriores para calcular la interpolación, pandas no puede estimar el valor de B en el índice 0 y deja el NaN.\")\n",
    "print(data_interpolated)\n",
    "print(\"Interpolacion polinomial\")\n",
    "print(data_interpolated_polinomial)\n"
   ]
  },
  {
   "cell_type": "markdown",
   "metadata": {},
   "source": [
    "## 3. Eliminación de Valores Faltantes cop Dropna()\n",
    "Sirve para eliminar filas o columnas que contienen calores faltantes"
   ]
  }
 ],
 "metadata": {
  "kernelspec": {
   "display_name": "Python 3.11.5 64-bit",
   "language": "python",
   "name": "python3"
  },
  "language_info": {
   "codemirror_mode": {
    "name": "ipython",
    "version": 3
   },
   "file_extension": ".py",
   "mimetype": "text/x-python",
   "name": "python",
   "nbconvert_exporter": "python",
   "pygments_lexer": "ipython3",
   "version": "3.11.5"
  },
  "orig_nbformat": 4,
  "vscode": {
   "interpreter": {
    "hash": "2982768db5f5fb2f5da9d2a9598c3ca42d4f5b2e5ef8d17ff5b19889a5b63042"
   }
  }
 },
 "nbformat": 4,
 "nbformat_minor": 2
}
