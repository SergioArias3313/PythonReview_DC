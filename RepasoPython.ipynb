{
 "cells": [
  {
   "cell_type": "markdown",
   "metadata": {},
   "source": [
    "##\n",
    " Repaso Python "
   ]
  },
  {
   "cell_type": "markdown",
   "metadata": {},
   "source": [
    "# 7. Nan & null treatment\n",
    "En pandas, los valores faltantes suelen representarse como: \n",
    "-   NaN (para datos numéricos) \n",
    "-   None (para datos de tipo objeto).  <br>\n",
    "\n",
    "Puedes usar las funciones isna() o isnull() para identificarlos"
   ]
  },
  {
   "cell_type": "code",
   "execution_count": 2,
   "metadata": {},
   "outputs": [
    {
     "name": "stdout",
     "output_type": "stream",
     "text": [
      "     A    B    C\n",
      "0  1.0  NaN  1.0\n",
      "1  2.0  2.0  2.0\n",
      "2  NaN  3.0  3.0\n",
      "3  4.0  4.0  NaN\n",
      "----\n",
      "       A      B      C\n",
      "0  False   True  False\n",
      "1  False  False  False\n",
      "2   True  False  False\n",
      "3  False  False   True\n",
      "----\n",
      "       A      B      C\n",
      "0  False   True  False\n",
      "1  False  False  False\n",
      "2   True  False  False\n",
      "3  False  False   True\n"
     ]
    }
   ],
   "source": [
    "import pandas as pd\n",
    "import numpy as np\n",
    "\n",
    "#DataFrame con valores faltantes\n",
    "df = pd.DataFrame({\n",
    "    'A': [1, 2, np.nan, 4],\n",
    "    'B': [np.nan, 2, 3, 4],\n",
    "    'C': [1, 2, 3, None]\n",
    "})\n",
    "\n",
    "# Identificar valores faltantes\n",
    "print(df)\n",
    "print(\"----\")\n",
    "print(df.isna())\n",
    "print(\"----\")\n",
    "print(df.isnull())"
   ]
  },
  {
   "cell_type": "markdown",
   "metadata": {},
   "source": [
    "## Relleno de Valores Faltantes con Fillna()\n"
   ]
  },
  {
   "cell_type": "markdown",
   "metadata": {},
   "source": [
    "fillna() es una función clave para rellenar valores faltantes te permite rellenar con un valor específico con todo tipo de datos\n",
    "-   media -> Saca el promedio de la columna\n",
    "-   mediana, -> saca el promedio de la columna\n",
    "-   usar métodos de interpolación. -> estimar valores desconocidos entre un conjunto de datos conocidos. Exsite \n",
    "-               Lineal, spline y Temporar(para tiempo)       \n"
   ]
  },
  {
   "cell_type": "code",
   "execution_count": 48,
   "metadata": {},
   "outputs": [
    {
     "name": "stdout",
     "output_type": "stream",
     "text": [
      "Data Frame original\n",
      "     A    B    C\n",
      "0  1.0  NaN  1.0\n",
      "1  2.0  2.0  2.0\n",
      "2  0.0  3.0  3.0\n",
      "3  4.0  4.0  NaN\n",
      "Relleno con ceros\n",
      "     A    B    C\n",
      "0  1.0  0.0  1.0\n",
      "1  2.0  2.0  2.0\n",
      "2  0.0  3.0  3.0\n",
      "3  4.0  4.0  0.0\n",
      "Relleno con el promedio\n",
      "     A    B    C\n",
      "0  1.0  3.0  1.0\n",
      "1  2.0  2.0  2.0\n",
      "2  0.0  3.0  3.0\n",
      "3  4.0  4.0  2.0\n"
     ]
    }
   ],
   "source": [
    "data_filled = df.fillna(0)\n",
    "\n",
    "# Rellenar con la media de cada columna\n",
    "data_filled_mean = df.fillna(df.mean())\n",
    "\n",
    "print(\"Data Frame original\")\n",
    "print(df)\n",
    "print(\"Relleno con ceros\")\n",
    "print(data_filled)\n",
    "print(\"Relleno con el promedio\")\n",
    "print(data_filled_mean)"
   ]
  },
  {
   "cell_type": "code",
   "execution_count": 49,
   "metadata": {},
   "outputs": [
    {
     "name": "stdout",
     "output_type": "stream",
     "text": [
      "Data Frame original\n",
      "     A    B    C\n",
      "0  1.0  NaN  1.0\n",
      "1  2.0  2.0  2.0\n",
      "2  0.0  3.0  3.0\n",
      "3  4.0  4.0  NaN\n",
      "Interpolacion lineal, Sin valores anteriores para calcular la interpolación, pandas no puede estimar el valor de B en el índice 0 y deja el NaN.\n",
      "     A    B    C\n",
      "0  1.0  NaN  1.0\n",
      "1  2.0  2.0  2.0\n",
      "2  0.0  3.0  3.0\n",
      "3  4.0  4.0  3.0\n",
      "Interpolacion polinomial\n",
      "     A    B    C\n",
      "0  1.0  NaN  1.0\n",
      "1  2.0  2.0  2.0\n",
      "2  0.0  3.0  3.0\n",
      "3  4.0  4.0  NaN\n"
     ]
    }
   ],
   "source": [
    "# Interpolación lineal para rellenar valores faltantes\n",
    "data_interpolated = df.interpolate()\n",
    "data_interpolated_polinomial = df.interpolate(method='polynomial', order=2)\n",
    "\n",
    "print(\"Data Frame original\")\n",
    "print(df)\n",
    "print(\"Interpolacion lineal, Sin valores anteriores para calcular la interpolación, pandas no puede estimar el valor de B en el índice 0 y deja el NaN.\")\n",
    "print(data_interpolated)\n",
    "print(\"Interpolacion polinomial\")\n",
    "print(data_interpolated_polinomial)\n"
   ]
  },
  {
   "cell_type": "markdown",
   "metadata": {},
   "source": [
    "## Eliminación de Valores Faltantes con Dropna()\n",
    "Sirve para eliminar filas o columnas que contienen calores faltantes"
   ]
  },
  {
   "cell_type": "code",
   "execution_count": 30,
   "metadata": {},
   "outputs": [
    {
     "name": "stdout",
     "output_type": "stream",
     "text": [
      "DataFrame original\n",
      "     A    B    C\n",
      "0  1.0  NaN  1.0\n",
      "1  2.0  2.0  2.0\n",
      "2  NaN  3.0  3.0\n",
      "3  4.0  4.0  NaN\n",
      "Eliminar filas con Nan\n",
      "     A    B    C\n",
      "1  2.0  2.0  2.0\n",
      "Eliminar columnas con Nan\n",
      "Empty DataFrame\n",
      "Columns: []\n",
      "Index: [0, 1, 2, 3]\n",
      "Eliminar si toda la fila tiene datos faltantes\n",
      "     A    B    C\n",
      "0  1.0  NaN  1.0\n",
      "1  2.0  2.0  2.0\n",
      "2  NaN  3.0  3.0\n",
      "3  4.0  4.0  NaN\n"
     ]
    }
   ],
   "source": [
    "# Eliminar filas con cualquier valor faltante\n",
    "data_dropped_rows = df.dropna()\n",
    "\n",
    "# Eliminar columnas con cualquier valor faltante\n",
    "data_dropped_columns = df.dropna(axis=1)\n",
    "\n",
    "# Eliminar solo si toda la fila está faltante\n",
    "data_dropped_all = df.dropna(how='all')\n",
    "\n",
    "print(\"DataFrame original\")\n",
    "print(df)\n",
    "print(\"Eliminar filas con Nan\")\n",
    "print(data_dropped_rows)\n",
    "print(\"Eliminar columnas con Nan\")\n",
    "print(data_dropped_columns)\n",
    "print(\"Eliminar si toda la fila tiene datos faltantes\")\n",
    "print(data_dropped_all)"
   ]
  },
  {
   "cell_type": "markdown",
   "metadata": {},
   "source": [
    "## Reemplazo Condicional de Valores Faltantes (apply() y lambda)\n",
    "se usar apply() junto con lambda para aplicar funciones personalizadas que manejen valores faltantes según condiciones específicas"
   ]
  },
  {
   "cell_type": "code",
   "execution_count": 31,
   "metadata": {},
   "outputs": [
    {
     "name": "stdout",
     "output_type": "stream",
     "text": [
      "     A    B    C\n",
      "0  1.0  NaN  1.0\n",
      "1  2.0  2.0  2.0\n",
      "2  0.0  3.0  3.0\n",
      "3  4.0  4.0  NaN\n",
      "     A    B    C\n",
      "0  1.0  NaN  1.0\n",
      "1  2.0  2.0  2.0\n",
      "2  0.0  3.0  3.0\n",
      "3  4.0  4.0  NaN\n"
     ]
    }
   ],
   "source": [
    "# Reemplazar NaN en la columna 'A' con un valor condicional\n",
    "df_2 = df\n",
    "df_2['A'] = df_2['A'].apply(lambda x: 0 if pd.isna(x) else x)\n",
    "print(df)\n",
    "print(df_2)"
   ]
  },
  {
   "cell_type": "markdown",
   "metadata": {},
   "source": [
    "## Práctica \n",
    "Dado el data frame valores faltantes y rellena esos valores con la mediana de cada columna."
   ]
  },
  {
   "cell_type": "code",
   "execution_count": 33,
   "metadata": {},
   "outputs": [
    {
     "name": "stdout",
     "output_type": "stream",
     "text": [
      "     A    B    C\n",
      "0  1.0  NaN  1.0\n",
      "1  2.0  2.0  2.0\n",
      "2  NaN  3.0  3.0\n",
      "3  4.0  4.0  NaN\n",
      "          A    B    C\n",
      "0  1.000000  3.0  1.0\n",
      "1  2.000000  2.0  2.0\n",
      "2  2.333333  3.0  3.0\n",
      "3  4.000000  4.0  2.0\n"
     ]
    }
   ],
   "source": [
    "df_practica = pd.DataFrame({\n",
    "    'A': [1, 2, np.nan, 4],\n",
    "    'B': [np.nan, 2, 3, 4],\n",
    "    'C': [1, 2, 3, None]\n",
    "})\n",
    "\n",
    "print(df_practica)\n",
    "\n",
    "Fillet_data_mean= df_practica.fillna(df_practica.mean())\n",
    "print(Fillet_data_mean)"
   ]
  },
  {
   "cell_type": "code",
   "execution_count": null,
   "metadata": {},
   "outputs": [],
   "source": []
  },
  {
   "cell_type": "markdown",
   "metadata": {},
   "source": []
  },
  {
   "cell_type": "markdown",
   "metadata": {},
   "source": [
    "# 9. Merge\n",
    "El concepto de merge en pandas es similar a la operación de \"JOIN\" en SQL. Se utiliza para combinar dos DataFrames en uno solo, basándose en una o más claves comunes entre ellos. Pandas te permite hacer diferente tipos de combinaciones\n",
    "-   inner join (union interna)\n",
    "-   outer join (union externa)\n",
    "-   Left join (union izquierda)\n",
    "-   right join (union derecha)\n",
    "\n",
    "<div style=\"text-align: center;\">\n",
    "  <img src=\"./imagenes/merge_join.png\" alt=\"Descripción de la imagen\" width=\"400\"/>\n",
    "</div>\n",
    "\n"
   ]
  },
  {
   "cell_type": "markdown",
   "metadata": {},
   "source": [
    "## Data Frame"
   ]
  },
  {
   "cell_type": "code",
   "execution_count": 36,
   "metadata": {},
   "outputs": [
    {
     "name": "stdout",
     "output_type": "stream",
     "text": [
      "  key  value_df1\n",
      "0   A          1\n",
      "1   B          2\n",
      "2   C          3\n",
      "3   D          4\n",
      "  key  value_df2\n",
      "0   B          5\n",
      "1   D          6\n",
      "2   E          7\n",
      "3   F          8\n"
     ]
    }
   ],
   "source": [
    "# DataFrame 1\n",
    "df1 = pd.DataFrame({\n",
    "    'key': ['A', 'B', 'C', 'D'],\n",
    "    'value_df1': [1, 2, 3, 4]\n",
    "})\n",
    "\n",
    "# DataFrame 2\n",
    "df2 = pd.DataFrame({\n",
    "    'key': ['B', 'D', 'E', 'F'],\n",
    "    'value_df2': [5, 6, 7, 8]\n",
    "})\n",
    "\n",
    "print(df1)\n",
    "print (df2)"
   ]
  },
  {
   "cell_type": "code",
   "execution_count": 47,
   "metadata": {},
   "outputs": [
    {
     "name": "stdout",
     "output_type": "stream",
     "text": [
      "df 1\n",
      "  key  value_df1\n",
      "0   A          1\n",
      "1   B          2\n",
      "2   C          3\n",
      "3   D          4\n",
      "df 2\n",
      "  key  value_df2\n",
      "0   B          5\n",
      "1   D          6\n",
      "2   E          7\n",
      "3   F          8\n",
      "resultado merge inner\n",
      "  key  value_df1  value_df2\n",
      "0   B          2          5\n",
      "1   D          4          6\n"
     ]
    }
   ],
   "source": [
    "result_inner = pd.merge(df1, df2, on='key')\n",
    "print(\"df 1\")\n",
    "print(df1)\n",
    "print(\"df 2\")\n",
    "print(df2)\n",
    "print(\"resultado merge inner\")\n",
    "print(result_inner)"
   ]
  },
  {
   "cell_type": "markdown",
   "metadata": {},
   "source": [
    "## Inner merge (union interna)\n",
    "Retorna solo las filas que tienen coincidencias en ambas tablas. Este es el comportamiento por defecto.\n"
   ]
  },
  {
   "cell_type": "markdown",
   "metadata": {},
   "source": [
    "## Outer merge (Union externa)\n",
    "Retorna todas las filas de ambos DataFrames, llenando con NaN donde no hay coincidencias.\n"
   ]
  },
  {
   "cell_type": "code",
   "execution_count": 40,
   "metadata": {},
   "outputs": [
    {
     "name": "stdout",
     "output_type": "stream",
     "text": [
      "df 1\n",
      "  key  value_df1\n",
      "0   A          1\n",
      "1   B          2\n",
      "2   C          3\n",
      "3   D          4\n",
      "df 2\n",
      "  key  value_df2\n",
      "0   B          5\n",
      "1   D          6\n",
      "2   E          7\n",
      "3   F          8\n",
      "resultado merge outer\n",
      "  key  value_df1  value_df2\n",
      "0   A        1.0        NaN\n",
      "1   B        2.0        5.0\n",
      "2   C        3.0        NaN\n",
      "3   D        4.0        6.0\n",
      "4   E        NaN        7.0\n",
      "5   F        NaN        8.0\n"
     ]
    }
   ],
   "source": [
    "result_outer = pd.merge(df1, df2, on='key', how='outer')\n",
    "\n",
    "print(\"df 1\")\n",
    "print(df1)\n",
    "print(\"df 2\")\n",
    "print(df2)\n",
    "print(\"resultado merge outer\")\n",
    "print(result_outer)\n"
   ]
  },
  {
   "cell_type": "markdown",
   "metadata": {},
   "source": [
    "## Left merge (union izquierda)\n",
    "Retorna todas las filas del DataFrame izquierdo, y solo las coincidencias del DataFrame derecho. Las filas no coincidentes en el DataFrame derecho se rellenan con NaN.\n"
   ]
  },
  {
   "cell_type": "code",
   "execution_count": 42,
   "metadata": {},
   "outputs": [
    {
     "name": "stdout",
     "output_type": "stream",
     "text": [
      "df 1\n",
      "  key  value_df1\n",
      "0   A          1\n",
      "1   B          2\n",
      "2   C          3\n",
      "3   D          4\n",
      "df 2\n",
      "  key  value_df2\n",
      "0   B          5\n",
      "1   D          6\n",
      "2   E          7\n",
      "3   F          8\n",
      "resultado merge outer\n",
      "  key  value_df1  value_df2\n",
      "0   A          1        NaN\n",
      "1   B          2        5.0\n",
      "2   C          3        NaN\n",
      "3   D          4        6.0\n"
     ]
    }
   ],
   "source": [
    "result_left = pd.merge(df1, df2, on='key', how='left')\n",
    "\n",
    "print(\"df 1\")\n",
    "print(df1)\n",
    "print(\"df 2\")\n",
    "print(df2)\n",
    "print(\"resultado merge outer\")\n",
    "print(result_left)"
   ]
  },
  {
   "cell_type": "markdown",
   "metadata": {},
   "source": [
    "## Right merge (union derecha)\n",
    "Retorna todas las filas del DataFrame derecho, y solo las coincidencias del DataFrame izquierdo. Las filas no coincidentes en el DataFrame izquierdo se rellenan con NaN.\n"
   ]
  },
  {
   "cell_type": "code",
   "execution_count": 46,
   "metadata": {},
   "outputs": [
    {
     "name": "stdout",
     "output_type": "stream",
     "text": [
      "df 1\n",
      "  key  value_df1\n",
      "0   A          1\n",
      "1   B          2\n",
      "2   C          3\n",
      "3   D          4\n",
      "df 2\n",
      "  key  value_df2\n",
      "0   B          5\n",
      "1   D          6\n",
      "2   E          7\n",
      "3   F          8\n",
      "resultado Right join\n",
      "  key  value_df1  value_df2\n",
      "0   B        2.0          5\n",
      "1   D        4.0          6\n",
      "2   E        NaN          7\n",
      "3   F        NaN          8\n"
     ]
    }
   ],
   "source": [
    "result_right = pd.merge(df1, df2, on='key', how='right')\n",
    "print(\"df 1\")\n",
    "print(df1)\n",
    "print(\"df 2\")\n",
    "print(df2)\n",
    "print(\"resultado Right join\")\n",
    "print(result_right)"
   ]
  },
  {
   "cell_type": "code",
   "execution_count": null,
   "metadata": {},
   "outputs": [],
   "source": []
  },
  {
   "cell_type": "markdown",
   "metadata": {},
   "source": [
    "# 10. Join\n",
    "En pandas, el método join() se utiliza para combinar dos DataFrames basados en el índice (o en un índice y una columna). Aunque el concepto es similar al de merge, join() es especialmente útil cuando deseas combinar DataFrames que comparten el mismo índice o cuando estás trabajando con un índice en particular.\n"
   ]
  },
  {
   "cell_type": "markdown",
   "metadata": {},
   "source": [
    "## DataFrame"
   ]
  },
  {
   "cell_type": "code",
   "execution_count": 53,
   "metadata": {},
   "outputs": [],
   "source": [
    "\n",
    "# DataFrame 1\n",
    "df1_join = pd.DataFrame({\n",
    "    'A': [1, 2, 3],\n",
    "    'B': [4, 5, 6]\n",
    "}, index=['a', 'b', 'c'])\n",
    "\n",
    "# DataFrame 2\n",
    "df2_join = pd.DataFrame({\n",
    "    'C': [7, 8, 9],\n",
    "    'D': [10, 11, 12]\n",
    "}, index=['b', 'c', 'd'])\n",
    "\n",
    "#print(df1)"
   ]
  },
  {
   "cell_type": "markdown",
   "metadata": {},
   "source": [
    "## Outer Join (Unión externa):\n",
    "Retiene todas las filas de ambos DataFrames, rellenando con NaN donde no hay coincidencias en los índices."
   ]
  },
  {
   "cell_type": "code",
   "execution_count": 58,
   "metadata": {},
   "outputs": [
    {
     "name": "stdout",
     "output_type": "stream",
     "text": [
      "df 1\n",
      "   A  B\n",
      "a  1  4\n",
      "b  2  5\n",
      "c  3  6\n",
      "df 2\n",
      "   C   D\n",
      "b  7  10\n",
      "c  8  11\n",
      "d  9  12\n",
      "resultado Join inner\n",
      "     A    B    C     D\n",
      "a  1.0  4.0  NaN   NaN\n",
      "b  2.0  5.0  7.0  10.0\n",
      "c  3.0  6.0  8.0  11.0\n",
      "d  NaN  NaN  9.0  12.0\n"
     ]
    }
   ],
   "source": [
    "result_JoinOuter = df1.join(df2, how='outer')\n",
    "\n",
    "print(\"df 1\")\n",
    "print(df1_join)\n",
    "print(\"df 2\")\n",
    "print(df2_join)\n",
    "print(\"resultado Join inner\")\n",
    "print(result_JoinOuter)"
   ]
  },
  {
   "cell_type": "markdown",
   "metadata": {},
   "source": [
    "## Inner Join (Unión interna)\n",
    "Retiene solo las filas donde hay coincidencias en los índices de ambos DataFrames.\n",
    "\n",
    "\n"
   ]
  },
  {
   "cell_type": "code",
   "execution_count": 57,
   "metadata": {},
   "outputs": [
    {
     "name": "stdout",
     "output_type": "stream",
     "text": [
      "df 1\n",
      "   A  B\n",
      "a  1  4\n",
      "b  2  5\n",
      "c  3  6\n",
      "df 2\n",
      "   C   D\n",
      "b  7  10\n",
      "c  8  11\n",
      "d  9  12\n",
      "resultado Join Inner\n",
      "   A  B  C   D\n",
      "b  2  5  7  10\n",
      "c  3  6  8  11\n"
     ]
    }
   ],
   "source": [
    "result_joinInner = df1.join(df2, how='inner')\n",
    "\n",
    "print(\"df 1\")\n",
    "print(df1_join)\n",
    "print(\"df 2\")\n",
    "print(df2_join)\n",
    "print(\"resultado Join Inner\")\n",
    "print(result_joinInner)"
   ]
  },
  {
   "cell_type": "markdown",
   "metadata": {},
   "source": [
    "## Left join \n",
    "Combina todas las filas del DataFrame original (left), añadiendo columnas del DataFrame que estás uniendo (right) donde los índices coinciden. Las filas no coincidentes en el right son rellenas con NaN.\n"
   ]
  },
  {
   "cell_type": "code",
   "execution_count": 62,
   "metadata": {},
   "outputs": [
    {
     "name": "stdout",
     "output_type": "stream",
     "text": [
      "df 1\n",
      "   A  B\n",
      "a  1  4\n",
      "b  2  5\n",
      "c  3  6\n",
      "df 2\n",
      "   C   D\n",
      "b  7  10\n",
      "c  8  11\n",
      "d  9  12\n",
      "resultado Join Inner\n",
      "   A  B    C     D\n",
      "a  1  4  NaN   NaN\n",
      "b  2  5  7.0  10.0\n",
      "c  3  6  8.0  11.0\n"
     ]
    }
   ],
   "source": [
    "result_JoinLeft = df1.join(df2)\n",
    "\n",
    "print(\"df 1\")\n",
    "print(df1_join)\n",
    "print(\"df 2\")\n",
    "print(df2_join)\n",
    "print(\"resultado Join Inner\")\n",
    "print(result_JoinLeft)"
   ]
  },
  {
   "cell_type": "markdown",
   "metadata": {},
   "source": [
    "## Right Join \n",
    "Retiene todas las filas del DataFrame derecho, y rellena con NaN donde no hay coincidencias en el DataFrame izquierdo.\n",
    "\n"
   ]
  },
  {
   "cell_type": "code",
   "execution_count": 59,
   "metadata": {},
   "outputs": [
    {
     "name": "stdout",
     "output_type": "stream",
     "text": [
      "df 1\n",
      "   A  B\n",
      "a  1  4\n",
      "b  2  5\n",
      "c  3  6\n",
      "df 2\n",
      "   C   D\n",
      "b  7  10\n",
      "c  8  11\n",
      "d  9  12\n",
      "resultado Join Inner\n",
      "     A    B  C   D\n",
      "b  2.0  5.0  7  10\n",
      "c  3.0  6.0  8  11\n",
      "d  NaN  NaN  9  12\n"
     ]
    }
   ],
   "source": [
    "result_JoinRight = df1.join(df2, how='right')\n",
    "\n",
    "print(\"df 1\")\n",
    "print(df1_join)\n",
    "print(\"df 2\")\n",
    "print(df2_join)\n",
    "print(\"resultado Join Inner\")\n",
    "print(result_JoinRight)\n"
   ]
  },
  {
   "cell_type": "markdown",
   "metadata": {},
   "source": [
    "## Practica\n",
    "Dado los DataFrames con datos de tiempo (fechas como índice) y usa join() para combinarlos, explorando las diferencias entre left, right, inner y outer joins."
   ]
  },
  {
   "cell_type": "markdown",
   "metadata": {},
   "source": [
    "# 11. Concat\n",
    "\n",
    "El método concat() en pandas se utiliza para **concatenar o unir DataFrames y Series**. A diferencia de merge o join, que combinan datos basándose en claves o índices, **concat une los datos de manera directa**, ya sea por filas (verticalmente) o por columnas (horizontalmente). Este método es útil cuando deseas unir varios DataFrames que **tienen la misma estructura** o cuando necesitas agregar nuevos datos a un conjunto de datos existente."
   ]
  },
  {
   "cell_type": "markdown",
   "metadata": {},
   "source": [
    "## DataFrame"
   ]
  },
  {
   "cell_type": "code",
   "execution_count": 5,
   "metadata": {},
   "outputs": [
    {
     "name": "stdout",
     "output_type": "stream",
     "text": [
      "    A   B\n",
      "0  A0  B0\n",
      "1  A1  B1\n",
      "2  A2  B2\n",
      "    A   B\n",
      "3  A3  B3\n",
      "4  A4  B4\n",
      "5  A5  B5\n"
     ]
    }
   ],
   "source": [
    "# DataFrame 1\n",
    "import pandas\n",
    "df1 = pd.DataFrame({\n",
    "    'A': ['A0', 'A1', 'A2'],\n",
    "    'B': ['B0', 'B1', 'B2']\n",
    "}, index=[0, 1, 2])\n",
    "\n",
    "# DataFrame 2\n",
    "df2 = pd.DataFrame({\n",
    "    'A': ['A3', 'A4', 'A5'],\n",
    "    'B': ['B3', 'B4', 'B5']\n",
    "}, index=[3, 4, 5])\n",
    "\n",
    "#print(df1)\n",
    "#print(df2)"
   ]
  },
  {
   "cell_type": "markdown",
   "metadata": {},
   "source": [
    "## Concatenar por filas (Verticalmente)\n",
    "Se apilan los DataFrames uno sobre otro.\n"
   ]
  },
  {
   "cell_type": "code",
   "execution_count": 8,
   "metadata": {},
   "outputs": [
    {
     "name": "stdout",
     "output_type": "stream",
     "text": [
      "    A   B\n",
      "0  A0  B0\n",
      "1  A1  B1\n",
      "2  A2  B2\n",
      "3  A3  B3\n",
      "4  A4  B4\n",
      "5  A5  B5\n"
     ]
    }
   ],
   "source": [
    "result_row = pd.concat([df1, df2])\n",
    "print (result_row)\n"
   ]
  },
  {
   "cell_type": "markdown",
   "metadata": {},
   "source": [
    "## Concatenar por Columnas (Horizontalmente):\n",
    "Se combinan los DataFrames uno al lado del otro, creando un único DataFrame con el doble de columnas. Los índices de df1 y df2 se mantienen, y si los índices no coinciden, se rellenan con NaN.\n",
    "\n",
    "\n"
   ]
  },
  {
   "cell_type": "code",
   "execution_count": 21,
   "metadata": {},
   "outputs": [
    {
     "name": "stdout",
     "output_type": "stream",
     "text": [
      "     A    B    A    B\n",
      "0   A0   B0  NaN  NaN\n",
      "1   A1   B1  NaN  NaN\n",
      "2   A2   B2  NaN  NaN\n",
      "3  NaN  NaN   A3   B3\n",
      "4  NaN  NaN   A4   B4\n",
      "5  NaN  NaN   A5   B5\n"
     ]
    }
   ],
   "source": [
    "result_column = pd.concat([df1, df2], axis=1)\n",
    "print (result_column)\n"
   ]
  },
  {
   "cell_type": "markdown",
   "metadata": {},
   "source": [
    "## Agregar Índices o Llaves:\n",
    "Puedes añadir un nuevo índice a los datos concatenados para distinguir entre las diferentes fuentes. Esto añade un nuevo nivel de índice (df1 y df2) para indicar la procedencia de los datos.\n",
    "\n"
   ]
  },
  {
   "cell_type": "code",
   "execution_count": 22,
   "metadata": {},
   "outputs": [
    {
     "name": "stdout",
     "output_type": "stream",
     "text": [
      "        A   B\n",
      "df1 0  A0  B0\n",
      "    1  A1  B1\n",
      "    2  A2  B2\n",
      "df2 3  A3  B3\n",
      "    4  A4  B4\n",
      "    5  A5  B5\n"
     ]
    }
   ],
   "source": [
    "result_key = pd.concat([df1, df2], keys=['df1', 'df2'])\n",
    "\n",
    "print(result_key)\n"
   ]
  },
  {
   "cell_type": "markdown",
   "metadata": {},
   "source": [
    "## Practica\n",
    "Con los datas frames con datos de ventas trimestrales. Únelos usando concat para crear un único DataFrame con las ventas anuales."
   ]
  },
  {
   "cell_type": "code",
   "execution_count": 14,
   "metadata": {},
   "outputs": [
    {
     "name": "stdout",
     "output_type": "stream",
     "text": [
      "  Producto  Ventas Trimestre\n",
      "0        A     150        Q1\n",
      "1        B     200        Q1\n",
      "2        C     130        Q1\n"
     ]
    }
   ],
   "source": [
    "# Ventas del primer trimestre\n",
    "df_q1 = pd.DataFrame({\n",
    "    'Producto': ['A', 'B', 'C'],\n",
    "    'Ventas': [150, 200, 130],\n",
    "    'Trimestre': ['Q1', 'Q1', 'Q1']\n",
    "})\n",
    "\n",
    "# Ventas del segundo trimestre\n",
    "df_q2 = pd.DataFrame({\n",
    "    'Producto': ['A', 'B', 'C'],\n",
    "    'Ventas': [180, 210, 160],\n",
    "    'Trimestre': ['Q2', 'Q2', 'Q2']\n",
    "})\n",
    "\n",
    "# Ventas del tercer trimestre\n",
    "df_q3 = pd.DataFrame({\n",
    "    'Producto': ['A', 'B', 'C'],\n",
    "    'Ventas': [200, 230, 170],\n",
    "    'Trimestre': ['Q3', 'Q3', 'Q3']\n",
    "})\n",
    "print(df_q1)"
   ]
  },
  {
   "cell_type": "code",
   "execution_count": 20,
   "metadata": {},
   "outputs": [
    {
     "name": "stdout",
     "output_type": "stream",
     "text": [
      "         Producto  Ventas Trimestre\n",
      "First  0        A     150        Q1\n",
      "       1        B     200        Q1\n",
      "       2        C     130        Q1\n",
      "Second 0        A     180        Q2\n",
      "       1        B     210        Q2\n",
      "       2        C     160        Q2\n",
      "Third  0        A     200        Q3\n",
      "       1        B     230        Q3\n",
      "       2        C     170        Q3\n"
     ]
    }
   ],
   "source": [
    "Answer = pd.concat([df_q1,df_q2,df_q3],keys=['First','Second','Third '])\n",
    "print (Answer)"
   ]
  },
  {
   "cell_type": "markdown",
   "metadata": {},
   "source": [
    "# 12 Time manipulation\n",
    "La manipulación de datos temporales es fundamental en ciencia de datos, especialmente cuando trabajas con series temporales, análisis de tendencias, o cualquier dato que dependa del tiempo.\n",
    "\n"
   ]
  },
  {
   "cell_type": "markdown",
   "metadata": {},
   "source": [
    "## Conversion de fechas\n",
    "Convierte cadenas de texto a objetos datetime usando pd.to_datetime(). Para esto existe varios formatos en los que puede venir el texto como:\n",
    "-   Formato de Fecha simple (YYYY-MM-DD)\n",
    "-   Formato de Fecha y hora (YYYY-MM-DD-HH:MM)\n",
    "-   Formato con diferentes separadores (DD/MM/YYYY)\n",
    "-   Fecha con Año, Mes y Día en diferentes columnas \n"
   ]
  },
  {
   "cell_type": "markdown",
   "metadata": {},
   "source": [
    "### Formato de Fecha simple (YYYY-MM-DD)\n",
    "Este es el formato de fecha ISO estándar. pandas lo reconoce automáticamente."
   ]
  },
  {
   "cell_type": "code",
   "execution_count": 43,
   "metadata": {},
   "outputs": [
    {
     "name": "stdout",
     "output_type": "stream",
     "text": [
      "Tipo de dato inicial de fecha  object\n",
      "Tipo de dato final de fecha  datetime64[ns]\n"
     ]
    },
    {
     "data": {
      "text/html": [
       "<div>\n",
       "<style scoped>\n",
       "    .dataframe tbody tr th:only-of-type {\n",
       "        vertical-align: middle;\n",
       "    }\n",
       "\n",
       "    .dataframe tbody tr th {\n",
       "        vertical-align: top;\n",
       "    }\n",
       "\n",
       "    .dataframe thead th {\n",
       "        text-align: right;\n",
       "    }\n",
       "</style>\n",
       "<table border=\"1\" class=\"dataframe\">\n",
       "  <thead>\n",
       "    <tr style=\"text-align: right;\">\n",
       "      <th></th>\n",
       "      <th>Fecha</th>\n",
       "    </tr>\n",
       "  </thead>\n",
       "  <tbody>\n",
       "    <tr>\n",
       "      <th>0</th>\n",
       "      <td>2024-01-01</td>\n",
       "    </tr>\n",
       "    <tr>\n",
       "      <th>1</th>\n",
       "      <td>2024-02-15</td>\n",
       "    </tr>\n",
       "    <tr>\n",
       "      <th>2</th>\n",
       "      <td>2024-03-30</td>\n",
       "    </tr>\n",
       "  </tbody>\n",
       "</table>\n",
       "</div>"
      ],
      "text/plain": [
       "       Fecha\n",
       "0 2024-01-01\n",
       "1 2024-02-15\n",
       "2 2024-03-30"
      ]
     },
     "execution_count": 43,
     "metadata": {},
     "output_type": "execute_result"
    }
   ],
   "source": [
    "df = pd.DataFrame({'Fecha': ['2024-01-01', '2024-02-15', '2024-03-30']})\n",
    "print(f'Tipo de dato inicial de fecha ',df.dtypes[\"Fecha\"])\n",
    "\n",
    "df['Fecha'] = pd.to_datetime(df['Fecha'])\n",
    "print(f'Tipo de dato final de fecha ',df.dtypes[\"Fecha\"])\n",
    "df.head()"
   ]
  },
  {
   "cell_type": "markdown",
   "metadata": {},
   "source": [
    "### Formato de Fecha y Hora (YYYY-MM-DD HH:MM)\n",
    "Cuando la fecha y hora están incluidas en una sola cadena, pandas también puede manejarlo directamente.\n",
    "\n"
   ]
  },
  {
   "cell_type": "code",
   "execution_count": 53,
   "metadata": {},
   "outputs": [],
   "source": [
    "df = pd.DataFrame({'Fecha': ['2024-01-01 10:00:00', '2024-02-15 15:30:00', '2024-03-30 08:45:00']})"
   ]
  },
  {
   "cell_type": "code",
   "execution_count": 52,
   "metadata": {},
   "outputs": [
    {
     "data": {
      "text/html": [
       "<div>\n",
       "<style scoped>\n",
       "    .dataframe tbody tr th:only-of-type {\n",
       "        vertical-align: middle;\n",
       "    }\n",
       "\n",
       "    .dataframe tbody tr th {\n",
       "        vertical-align: top;\n",
       "    }\n",
       "\n",
       "    .dataframe thead th {\n",
       "        text-align: right;\n",
       "    }\n",
       "</style>\n",
       "<table border=\"1\" class=\"dataframe\">\n",
       "  <thead>\n",
       "    <tr style=\"text-align: right;\">\n",
       "      <th></th>\n",
       "      <th>Fecha</th>\n",
       "    </tr>\n",
       "  </thead>\n",
       "  <tbody>\n",
       "    <tr>\n",
       "      <th>0</th>\n",
       "      <td>2024-01-01 10:00:00</td>\n",
       "    </tr>\n",
       "    <tr>\n",
       "      <th>1</th>\n",
       "      <td>2024-02-15 15:30:00</td>\n",
       "    </tr>\n",
       "    <tr>\n",
       "      <th>2</th>\n",
       "      <td>2024-03-30 08:45:00</td>\n",
       "    </tr>\n",
       "  </tbody>\n",
       "</table>\n",
       "</div>"
      ],
      "text/plain": [
       "                Fecha\n",
       "0 2024-01-01 10:00:00\n",
       "1 2024-02-15 15:30:00\n",
       "2 2024-03-30 08:45:00"
      ]
     },
     "execution_count": 52,
     "metadata": {},
     "output_type": "execute_result"
    }
   ],
   "source": [
    "df['Fecha'] = pd.to_datetime(df['Fecha'])\n",
    "df.head()"
   ]
  },
  {
   "cell_type": "markdown",
   "metadata": {},
   "source": [
    "### Fechas con Diferentes Separadores (DD/MM/YYYY)\n",
    "Si las fechas usan un formato distinto como DD/MM/YYYY, es necesario especificar el parámetro dayfirst=True para que pandas las interprete correctamente.\n",
    "\n"
   ]
  },
  {
   "cell_type": "code",
   "execution_count": 54,
   "metadata": {},
   "outputs": [
    {
     "data": {
      "text/html": [
       "<div>\n",
       "<style scoped>\n",
       "    .dataframe tbody tr th:only-of-type {\n",
       "        vertical-align: middle;\n",
       "    }\n",
       "\n",
       "    .dataframe tbody tr th {\n",
       "        vertical-align: top;\n",
       "    }\n",
       "\n",
       "    .dataframe thead th {\n",
       "        text-align: right;\n",
       "    }\n",
       "</style>\n",
       "<table border=\"1\" class=\"dataframe\">\n",
       "  <thead>\n",
       "    <tr style=\"text-align: right;\">\n",
       "      <th></th>\n",
       "      <th>Fecha</th>\n",
       "    </tr>\n",
       "  </thead>\n",
       "  <tbody>\n",
       "    <tr>\n",
       "      <th>0</th>\n",
       "      <td>01/01/2024</td>\n",
       "    </tr>\n",
       "    <tr>\n",
       "      <th>1</th>\n",
       "      <td>15/02/2024</td>\n",
       "    </tr>\n",
       "    <tr>\n",
       "      <th>2</th>\n",
       "      <td>30/03/2024</td>\n",
       "    </tr>\n",
       "  </tbody>\n",
       "</table>\n",
       "</div>"
      ],
      "text/plain": [
       "        Fecha\n",
       "0  01/01/2024\n",
       "1  15/02/2024\n",
       "2  30/03/2024"
      ]
     },
     "execution_count": 54,
     "metadata": {},
     "output_type": "execute_result"
    }
   ],
   "source": [
    "df = pd.DataFrame({'Fecha': ['01/01/2024', '15/02/2024', '30/03/2024']})\n",
    "df.head()"
   ]
  },
  {
   "cell_type": "code",
   "execution_count": 55,
   "metadata": {},
   "outputs": [
    {
     "data": {
      "text/html": [
       "<div>\n",
       "<style scoped>\n",
       "    .dataframe tbody tr th:only-of-type {\n",
       "        vertical-align: middle;\n",
       "    }\n",
       "\n",
       "    .dataframe tbody tr th {\n",
       "        vertical-align: top;\n",
       "    }\n",
       "\n",
       "    .dataframe thead th {\n",
       "        text-align: right;\n",
       "    }\n",
       "</style>\n",
       "<table border=\"1\" class=\"dataframe\">\n",
       "  <thead>\n",
       "    <tr style=\"text-align: right;\">\n",
       "      <th></th>\n",
       "      <th>Fecha</th>\n",
       "    </tr>\n",
       "  </thead>\n",
       "  <tbody>\n",
       "    <tr>\n",
       "      <th>0</th>\n",
       "      <td>2024-01-01</td>\n",
       "    </tr>\n",
       "    <tr>\n",
       "      <th>1</th>\n",
       "      <td>2024-02-15</td>\n",
       "    </tr>\n",
       "    <tr>\n",
       "      <th>2</th>\n",
       "      <td>2024-03-30</td>\n",
       "    </tr>\n",
       "  </tbody>\n",
       "</table>\n",
       "</div>"
      ],
      "text/plain": [
       "       Fecha\n",
       "0 2024-01-01\n",
       "1 2024-02-15\n",
       "2 2024-03-30"
      ]
     },
     "execution_count": 55,
     "metadata": {},
     "output_type": "execute_result"
    }
   ],
   "source": [
    "df['Fecha'] = pd.to_datetime(df['Fecha'], dayfirst=True)\n",
    "df.head()\n"
   ]
  },
  {
   "cell_type": "markdown",
   "metadata": {},
   "source": [
    "### Fechas con Año, Mes y Día en Diferentes Columnas\n",
    "Si tienes las fechas divididas en varias columnas (por ejemplo, Año, Mes, Día), puedes combinarlas primero y luego convertirlas."
   ]
  },
  {
   "cell_type": "code",
   "execution_count": 60,
   "metadata": {},
   "outputs": [
    {
     "data": {
      "text/html": [
       "<div>\n",
       "<style scoped>\n",
       "    .dataframe tbody tr th:only-of-type {\n",
       "        vertical-align: middle;\n",
       "    }\n",
       "\n",
       "    .dataframe tbody tr th {\n",
       "        vertical-align: top;\n",
       "    }\n",
       "\n",
       "    .dataframe thead th {\n",
       "        text-align: right;\n",
       "    }\n",
       "</style>\n",
       "<table border=\"1\" class=\"dataframe\">\n",
       "  <thead>\n",
       "    <tr style=\"text-align: right;\">\n",
       "      <th></th>\n",
       "      <th>Year</th>\n",
       "      <th>Month</th>\n",
       "      <th>Day</th>\n",
       "    </tr>\n",
       "  </thead>\n",
       "  <tbody>\n",
       "    <tr>\n",
       "      <th>0</th>\n",
       "      <td>2024</td>\n",
       "      <td>1</td>\n",
       "      <td>1</td>\n",
       "    </tr>\n",
       "    <tr>\n",
       "      <th>1</th>\n",
       "      <td>2024</td>\n",
       "      <td>2</td>\n",
       "      <td>15</td>\n",
       "    </tr>\n",
       "    <tr>\n",
       "      <th>2</th>\n",
       "      <td>2024</td>\n",
       "      <td>3</td>\n",
       "      <td>30</td>\n",
       "    </tr>\n",
       "  </tbody>\n",
       "</table>\n",
       "</div>"
      ],
      "text/plain": [
       "   Year  Month  Day\n",
       "0  2024      1    1\n",
       "1  2024      2   15\n",
       "2  2024      3   30"
      ]
     },
     "execution_count": 60,
     "metadata": {},
     "output_type": "execute_result"
    }
   ],
   "source": [
    "df = pd.DataFrame({'Year': [2024, 2024, 2024],\n",
    "                   'Month': [1, 2, 3],\n",
    "                   'Day': [1, 15, 30]})\n",
    "df.head()\n"
   ]
  },
  {
   "cell_type": "code",
   "execution_count": 62,
   "metadata": {},
   "outputs": [
    {
     "data": {
      "text/html": [
       "<div>\n",
       "<style scoped>\n",
       "    .dataframe tbody tr th:only-of-type {\n",
       "        vertical-align: middle;\n",
       "    }\n",
       "\n",
       "    .dataframe tbody tr th {\n",
       "        vertical-align: top;\n",
       "    }\n",
       "\n",
       "    .dataframe thead th {\n",
       "        text-align: right;\n",
       "    }\n",
       "</style>\n",
       "<table border=\"1\" class=\"dataframe\">\n",
       "  <thead>\n",
       "    <tr style=\"text-align: right;\">\n",
       "      <th></th>\n",
       "      <th>Year</th>\n",
       "      <th>Month</th>\n",
       "      <th>Day</th>\n",
       "      <th>Fecha</th>\n",
       "    </tr>\n",
       "  </thead>\n",
       "  <tbody>\n",
       "    <tr>\n",
       "      <th>0</th>\n",
       "      <td>2024</td>\n",
       "      <td>1</td>\n",
       "      <td>1</td>\n",
       "      <td>2024-01-01</td>\n",
       "    </tr>\n",
       "    <tr>\n",
       "      <th>1</th>\n",
       "      <td>2024</td>\n",
       "      <td>2</td>\n",
       "      <td>15</td>\n",
       "      <td>2024-02-15</td>\n",
       "    </tr>\n",
       "    <tr>\n",
       "      <th>2</th>\n",
       "      <td>2024</td>\n",
       "      <td>3</td>\n",
       "      <td>30</td>\n",
       "      <td>2024-03-30</td>\n",
       "    </tr>\n",
       "  </tbody>\n",
       "</table>\n",
       "</div>"
      ],
      "text/plain": [
       "   Year  Month  Day      Fecha\n",
       "0  2024      1    1 2024-01-01\n",
       "1  2024      2   15 2024-02-15\n",
       "2  2024      3   30 2024-03-30"
      ]
     },
     "execution_count": 62,
     "metadata": {},
     "output_type": "execute_result"
    }
   ],
   "source": [
    "df['Fecha'] = pd.to_datetime(df[['Year', 'Month', 'Day']])\n",
    "df.head()\n",
    "\n"
   ]
  },
  {
   "cell_type": "markdown",
   "metadata": {},
   "source": [
    "## Indexación y selección con fechas\n",
    "Puedes usar fechas como índices para seleccionar y filtrar datos.\n"
   ]
  },
  {
   "cell_type": "code",
   "execution_count": 66,
   "metadata": {},
   "outputs": [
    {
     "data": {
      "text/html": [
       "<div>\n",
       "<style scoped>\n",
       "    .dataframe tbody tr th:only-of-type {\n",
       "        vertical-align: middle;\n",
       "    }\n",
       "\n",
       "    .dataframe tbody tr th {\n",
       "        vertical-align: top;\n",
       "    }\n",
       "\n",
       "    .dataframe thead th {\n",
       "        text-align: right;\n",
       "    }\n",
       "</style>\n",
       "<table border=\"1\" class=\"dataframe\">\n",
       "  <thead>\n",
       "    <tr style=\"text-align: right;\">\n",
       "      <th></th>\n",
       "      <th>Fecha</th>\n",
       "      <th>Ventas</th>\n",
       "    </tr>\n",
       "  </thead>\n",
       "  <tbody>\n",
       "    <tr>\n",
       "      <th>0</th>\n",
       "      <td>2024-01-01</td>\n",
       "      <td>100</td>\n",
       "    </tr>\n",
       "    <tr>\n",
       "      <th>1</th>\n",
       "      <td>2024-01-02</td>\n",
       "      <td>200</td>\n",
       "    </tr>\n",
       "    <tr>\n",
       "      <th>2</th>\n",
       "      <td>2024-01-03</td>\n",
       "      <td>300</td>\n",
       "    </tr>\n",
       "    <tr>\n",
       "      <th>3</th>\n",
       "      <td>2024-01-04</td>\n",
       "      <td>400</td>\n",
       "    </tr>\n",
       "    <tr>\n",
       "      <th>4</th>\n",
       "      <td>2024-01-05</td>\n",
       "      <td>500</td>\n",
       "    </tr>\n",
       "  </tbody>\n",
       "</table>\n",
       "</div>"
      ],
      "text/plain": [
       "       Fecha  Ventas\n",
       "0 2024-01-01     100\n",
       "1 2024-01-02     200\n",
       "2 2024-01-03     300\n",
       "3 2024-01-04     400\n",
       "4 2024-01-05     500"
      ]
     },
     "execution_count": 66,
     "metadata": {},
     "output_type": "execute_result"
    }
   ],
   "source": [
    "fechas = pd.date_range(start='2024-01-01', periods=100, freq='D')\n",
    "ventas = [i * 100 for i in range(1, 101)]\n",
    "df = pd.DataFrame({'Fecha': fechas, 'Ventas': ventas})\n",
    "df.head()"
   ]
  },
  {
   "cell_type": "code",
   "execution_count": 67,
   "metadata": {},
   "outputs": [
    {
     "data": {
      "text/html": [
       "<div>\n",
       "<style scoped>\n",
       "    .dataframe tbody tr th:only-of-type {\n",
       "        vertical-align: middle;\n",
       "    }\n",
       "\n",
       "    .dataframe tbody tr th {\n",
       "        vertical-align: top;\n",
       "    }\n",
       "\n",
       "    .dataframe thead th {\n",
       "        text-align: right;\n",
       "    }\n",
       "</style>\n",
       "<table border=\"1\" class=\"dataframe\">\n",
       "  <thead>\n",
       "    <tr style=\"text-align: right;\">\n",
       "      <th></th>\n",
       "      <th>Ventas</th>\n",
       "    </tr>\n",
       "    <tr>\n",
       "      <th>Fecha</th>\n",
       "      <th></th>\n",
       "    </tr>\n",
       "  </thead>\n",
       "  <tbody>\n",
       "    <tr>\n",
       "      <th>2024-01-01</th>\n",
       "      <td>100</td>\n",
       "    </tr>\n",
       "    <tr>\n",
       "      <th>2024-01-02</th>\n",
       "      <td>200</td>\n",
       "    </tr>\n",
       "    <tr>\n",
       "      <th>2024-01-03</th>\n",
       "      <td>300</td>\n",
       "    </tr>\n",
       "    <tr>\n",
       "      <th>2024-01-04</th>\n",
       "      <td>400</td>\n",
       "    </tr>\n",
       "    <tr>\n",
       "      <th>2024-01-05</th>\n",
       "      <td>500</td>\n",
       "    </tr>\n",
       "  </tbody>\n",
       "</table>\n",
       "</div>"
      ],
      "text/plain": [
       "            Ventas\n",
       "Fecha             \n",
       "2024-01-01     100\n",
       "2024-01-02     200\n",
       "2024-01-03     300\n",
       "2024-01-04     400\n",
       "2024-01-05     500"
      ]
     },
     "execution_count": 67,
     "metadata": {},
     "output_type": "execute_result"
    }
   ],
   "source": [
    "df.set_index('Fecha', inplace=True)\n",
    "df.head()\n",
    "#df.loc['2024-01-01']  # Selecciona datos del 1 de enero de 2024"
   ]
  },
  {
   "cell_type": "markdown",
   "metadata": {},
   "source": [
    "## Extracción de Componentes Temporales:\n",
    "Extrae partes de las fechas, como año, mes, día, etc.\n"
   ]
  },
  {
   "cell_type": "code",
   "execution_count": 69,
   "metadata": {},
   "outputs": [
    {
     "data": {
      "text/html": [
       "<div>\n",
       "<style scoped>\n",
       "    .dataframe tbody tr th:only-of-type {\n",
       "        vertical-align: middle;\n",
       "    }\n",
       "\n",
       "    .dataframe tbody tr th {\n",
       "        vertical-align: top;\n",
       "    }\n",
       "\n",
       "    .dataframe thead th {\n",
       "        text-align: right;\n",
       "    }\n",
       "</style>\n",
       "<table border=\"1\" class=\"dataframe\">\n",
       "  <thead>\n",
       "    <tr style=\"text-align: right;\">\n",
       "      <th></th>\n",
       "      <th>Fecha</th>\n",
       "      <th>Ventas</th>\n",
       "    </tr>\n",
       "  </thead>\n",
       "  <tbody>\n",
       "    <tr>\n",
       "      <th>0</th>\n",
       "      <td>2024-01-01</td>\n",
       "      <td>100</td>\n",
       "    </tr>\n",
       "    <tr>\n",
       "      <th>1</th>\n",
       "      <td>2024-01-02</td>\n",
       "      <td>200</td>\n",
       "    </tr>\n",
       "    <tr>\n",
       "      <th>2</th>\n",
       "      <td>2024-01-03</td>\n",
       "      <td>300</td>\n",
       "    </tr>\n",
       "    <tr>\n",
       "      <th>3</th>\n",
       "      <td>2024-01-04</td>\n",
       "      <td>400</td>\n",
       "    </tr>\n",
       "    <tr>\n",
       "      <th>4</th>\n",
       "      <td>2024-01-05</td>\n",
       "      <td>500</td>\n",
       "    </tr>\n",
       "  </tbody>\n",
       "</table>\n",
       "</div>"
      ],
      "text/plain": [
       "       Fecha  Ventas\n",
       "0 2024-01-01     100\n",
       "1 2024-01-02     200\n",
       "2 2024-01-03     300\n",
       "3 2024-01-04     400\n",
       "4 2024-01-05     500"
      ]
     },
     "execution_count": 69,
     "metadata": {},
     "output_type": "execute_result"
    }
   ],
   "source": [
    "fechas = pd.date_range(start='2024-01-01', periods=100, freq='D')\n",
    "ventas = [i * 100 for i in range(1, 101)]\n",
    "df_2 = pd.DataFrame({'Fecha': fechas, 'Ventas': ventas})\n",
    "df_2.head()"
   ]
  },
  {
   "cell_type": "code",
   "execution_count": 71,
   "metadata": {},
   "outputs": [
    {
     "data": {
      "text/html": [
       "<div>\n",
       "<style scoped>\n",
       "    .dataframe tbody tr th:only-of-type {\n",
       "        vertical-align: middle;\n",
       "    }\n",
       "\n",
       "    .dataframe tbody tr th {\n",
       "        vertical-align: top;\n",
       "    }\n",
       "\n",
       "    .dataframe thead th {\n",
       "        text-align: right;\n",
       "    }\n",
       "</style>\n",
       "<table border=\"1\" class=\"dataframe\">\n",
       "  <thead>\n",
       "    <tr style=\"text-align: right;\">\n",
       "      <th></th>\n",
       "      <th>Fecha</th>\n",
       "      <th>Ventas</th>\n",
       "      <th>Año</th>\n",
       "      <th>Mes</th>\n",
       "      <th>Día de la Semana</th>\n",
       "    </tr>\n",
       "  </thead>\n",
       "  <tbody>\n",
       "    <tr>\n",
       "      <th>0</th>\n",
       "      <td>2024-01-01</td>\n",
       "      <td>100</td>\n",
       "      <td>2024</td>\n",
       "      <td>1</td>\n",
       "      <td>Monday</td>\n",
       "    </tr>\n",
       "    <tr>\n",
       "      <th>1</th>\n",
       "      <td>2024-01-02</td>\n",
       "      <td>200</td>\n",
       "      <td>2024</td>\n",
       "      <td>1</td>\n",
       "      <td>Tuesday</td>\n",
       "    </tr>\n",
       "    <tr>\n",
       "      <th>2</th>\n",
       "      <td>2024-01-03</td>\n",
       "      <td>300</td>\n",
       "      <td>2024</td>\n",
       "      <td>1</td>\n",
       "      <td>Wednesday</td>\n",
       "    </tr>\n",
       "    <tr>\n",
       "      <th>3</th>\n",
       "      <td>2024-01-04</td>\n",
       "      <td>400</td>\n",
       "      <td>2024</td>\n",
       "      <td>1</td>\n",
       "      <td>Thursday</td>\n",
       "    </tr>\n",
       "    <tr>\n",
       "      <th>4</th>\n",
       "      <td>2024-01-05</td>\n",
       "      <td>500</td>\n",
       "      <td>2024</td>\n",
       "      <td>1</td>\n",
       "      <td>Friday</td>\n",
       "    </tr>\n",
       "  </tbody>\n",
       "</table>\n",
       "</div>"
      ],
      "text/plain": [
       "       Fecha  Ventas   Año  Mes Día de la Semana\n",
       "0 2024-01-01     100  2024    1           Monday\n",
       "1 2024-01-02     200  2024    1          Tuesday\n",
       "2 2024-01-03     300  2024    1        Wednesday\n",
       "3 2024-01-04     400  2024    1         Thursday\n",
       "4 2024-01-05     500  2024    1           Friday"
      ]
     },
     "execution_count": 71,
     "metadata": {},
     "output_type": "execute_result"
    }
   ],
   "source": [
    "df_2['Año'] = df_2['Fecha'].dt.year\n",
    "df_2['Mes'] = df_2['Fecha'].dt.month\n",
    "df_2['Día de la Semana'] = df_2['Fecha'].dt.day_name()\n",
    "df_2.head()"
   ]
  },
  {
   "cell_type": "markdown",
   "metadata": {},
   "source": [
    "## Resampling (Remuestreo):\n",
    "Cambia la frecuencia temporal de los datos, por ejemplo, de diarios a mensuales. Esto puede permitir hacer una suma total de las ventas por mes\n",
    "\n",
    "\n",
    "Nota: la fecha debe ser índice\n",
    "\n"
   ]
  },
  {
   "cell_type": "code",
   "execution_count": 81,
   "metadata": {},
   "outputs": [
    {
     "data": {
      "text/html": [
       "<div>\n",
       "<style scoped>\n",
       "    .dataframe tbody tr th:only-of-type {\n",
       "        vertical-align: middle;\n",
       "    }\n",
       "\n",
       "    .dataframe tbody tr th {\n",
       "        vertical-align: top;\n",
       "    }\n",
       "\n",
       "    .dataframe thead th {\n",
       "        text-align: right;\n",
       "    }\n",
       "</style>\n",
       "<table border=\"1\" class=\"dataframe\">\n",
       "  <thead>\n",
       "    <tr style=\"text-align: right;\">\n",
       "      <th></th>\n",
       "      <th>Ventas</th>\n",
       "    </tr>\n",
       "    <tr>\n",
       "      <th>Fecha</th>\n",
       "      <th></th>\n",
       "    </tr>\n",
       "  </thead>\n",
       "  <tbody>\n",
       "    <tr>\n",
       "      <th>2024-01-31</th>\n",
       "      <td>49600</td>\n",
       "    </tr>\n",
       "    <tr>\n",
       "      <th>2024-02-29</th>\n",
       "      <td>133400</td>\n",
       "    </tr>\n",
       "    <tr>\n",
       "      <th>2024-03-31</th>\n",
       "      <td>235600</td>\n",
       "    </tr>\n",
       "    <tr>\n",
       "      <th>2024-04-30</th>\n",
       "      <td>86400</td>\n",
       "    </tr>\n",
       "  </tbody>\n",
       "</table>\n",
       "</div>"
      ],
      "text/plain": [
       "            Ventas\n",
       "Fecha             \n",
       "2024-01-31   49600\n",
       "2024-02-29  133400\n",
       "2024-03-31  235600\n",
       "2024-04-30   86400"
      ]
     },
     "execution_count": 81,
     "metadata": {},
     "output_type": "execute_result"
    }
   ],
   "source": [
    "fechas = pd.date_range(start='2024-01-01', periods=100, freq='D')\n",
    "ventas = [i * 100 for i in range(1, 101)]\n",
    "df_3 = pd.DataFrame({'Fecha': fechas, 'Ventas': ventas})\n",
    "\n",
    "df_3.set_index('Fecha', inplace=True)\n",
    "df_resampled = df_3.resample('M').sum()  # Suma ventas mensuales\n",
    "\n",
    "df_resampled.head()\n"
   ]
  },
  {
   "cell_type": "code",
   "execution_count": null,
   "metadata": {},
   "outputs": [],
   "source": []
  }
 ],
 "metadata": {
  "kernelspec": {
   "display_name": "Python 3.11.5 64-bit",
   "language": "python",
   "name": "python3"
  },
  "language_info": {
   "codemirror_mode": {
    "name": "ipython",
    "version": 3
   },
   "file_extension": ".py",
   "mimetype": "text/x-python",
   "name": "python",
   "nbconvert_exporter": "python",
   "pygments_lexer": "ipython3",
   "version": "3.11.5"
  },
  "orig_nbformat": 4,
  "vscode": {
   "interpreter": {
    "hash": "2982768db5f5fb2f5da9d2a9598c3ca42d4f5b2e5ef8d17ff5b19889a5b63042"
   }
  }
 },
 "nbformat": 4,
 "nbformat_minor": 2
}
